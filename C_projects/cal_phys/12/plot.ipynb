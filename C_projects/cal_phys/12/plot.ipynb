{
 "cells": [
  {
   "cell_type": "code",
   "execution_count": null,
   "metadata": {},
   "outputs": [],
   "source": [
    "a = 2\n",
    "b = 3\n",
    "k = 1/(b-a/2)\n",
    "μ = k/3*a^2 + k/2*(b^2-a^2)\n",
    "σ2 = k/4*a^3 + k/3*(b^3-a^3)-μ^2\n",
    "println(\"μ = \",μ, \"\\nσ2 = \",σ2)"
   ]
  },
  {
   "cell_type": "code",
   "execution_count": null,
   "metadata": {},
   "outputs": [],
   "source": [
    "1+19//6-(23//12)^2"
   ]
  },
  {
   "cell_type": "code",
   "execution_count": null,
   "metadata": {},
   "outputs": [],
   "source": [
    "using PyPlot, DelimitedFiles\n",
    "arr = readdlm(\"data.txt\", '\\t')\n",
    "G(x) = exp(-x^2/2)/sqrt(2π)\n",
    "x2 = arr[:,1]\n",
    "y2 = arr[:,2]\n",
    "z2 = arr[:,3]\n",
    "x5 = arr[:,4]\n",
    "y5 = arr[:,5]\n",
    "z5 = arr[:,6]\n",
    "xX = arr[:,7]\n",
    "yX = arr[:,8]\n",
    "zX = arr[:,9]\n",
    "len = length(x2)"
   ]
  },
  {
   "cell_type": "code",
   "execution_count": null,
   "metadata": {
    "scrolled": false
   },
   "outputs": [],
   "source": [
    "fig = figure(figsize=[12,8])\n",
    "grid()\n",
    "h = 0.05\n",
    "k = Int(5/h)\n",
    "cnt = zeros(2k)\n",
    "for e in zX\n",
    "    c = Int(ceil(e/h))+k\n",
    "    if c in 1:2k\n",
    "        cnt[c] += 1\n",
    "    end\n",
    "end\n",
    "bar((-5+h/2):h:(5-h/2),cnt/sum(cnt)/h,h)\n",
    "x = -5:0.01:5\n",
    "plot(x,G.(x),c=\"red\")\n",
    "title(\"N = 80\")\n",
    "show()\n",
    "savefig(\"./texfile/G2_80.png\")"
   ]
  }
 ],
 "metadata": {
  "kernelspec": {
   "display_name": "Julia 1.0.2",
   "language": "julia",
   "name": "julia-1.0"
  },
  "language_info": {
   "file_extension": ".jl",
   "mimetype": "application/julia",
   "name": "julia",
   "version": "1.0.2"
  }
 },
 "nbformat": 4,
 "nbformat_minor": 2
}
