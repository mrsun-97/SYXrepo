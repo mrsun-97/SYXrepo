{
 "cells": [
  {
   "cell_type": "markdown",
   "metadata": {},
   "source": [
    "$$<x_n^2>$$"
   ]
  },
  {
   "cell_type": "markdown",
   "metadata": {},
   "source": [
    "$$<x_n>$$"
   ]
  },
  {
   "cell_type": "markdown",
   "metadata": {},
   "source": [
    "\\begin{equation}\n",
    "\\begin{aligned}\n",
    "<\\!x^k\\!>~&=~\\int_0^1 x^k\\mathrm{d}p\\\\\n",
    "&=~\\int_0^1 x^k*1\\mathrm{d}x\\\\\n",
    "&=~\\frac{1}{k+1}x^{k+1}|_{x=0}^{1}\\\\\n",
    "&=~\\frac{1}{k+1}\\qquad\n",
    "\\end{aligned}\n",
    "\\end{equation}"
   ]
  },
  {
   "cell_type": "markdown",
   "metadata": {},
   "source": [
    "\\begin{equation}\n",
    "\\begin{aligned}\n",
    "<\\!x^k\\!>~&=~\\int_0^1 x^k\\mathrm{d}p\\\\\n",
    "&=~\\int_0^1 x^k1\\mathrm{d}x\\\\\n",
    "&=~\\frac{1}{k+1}x^{k+1}|_{x=0}^{1}\\\\ \n",
    "&=~\\frac{1}{k+1}\\qquad\\\\ \n",
    "\\end{aligned}\n",
    "\\end{equation}"
   ]
  },
  {
   "cell_type": "markdown",
   "metadata": {},
   "source": [
    "\\begin{equation}\n",
    "\\begin{aligned}\n",
    "R(S_2)&= p_2\\cdot S_2=\\sum_{i\\in \\mathcal{I}^+(p_2)}B_i+\\beta B_{l'}\\\\\n",
    "&\\leq \\sum_{i\\in \\mathcal{I}^+(p_2)}B_i+B_{l'}\\leq \\sum_{i\\in \\mathcal{I}^+(p_1)}B_i \\\\\n",
    "&\\leq \\sum_{i\\in \\mathcal{I}^+(p_1)}B_i+\\alpha B_l=R(S_1)\n",
    "\\end{aligned}\n",
    "\\end{equation}"
   ]
  }
 ],
 "metadata": {
  "kernelspec": {
   "display_name": "Julia 1.0.0",
   "language": "julia",
   "name": "julia-1.0"
  },
  "language_info": {
   "file_extension": ".jl",
   "mimetype": "application/julia",
   "name": "julia",
   "version": "1.0.1"
  }
 },
 "nbformat": 4,
 "nbformat_minor": 2
}
