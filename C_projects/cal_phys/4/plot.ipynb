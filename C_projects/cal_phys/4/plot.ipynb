{
 "cells": [
  {
   "cell_type": "code",
   "execution_count": null,
   "metadata": {},
   "outputs": [],
   "source": [
    "using PyPlot\n",
    "using DelimitedFiles\n",
    "\n",
    "A = readdlm(\"data.txt\",'\\n')\n",
    "a = round(Int32,A[1])\n",
    "b = round(Int32,A[2])\n",
    "m = round(Int32,A[3])\n",
    "A = A[4:end]\n",
    "print(\"len = \",length(A))"
   ]
  },
  {
   "cell_type": "code",
   "execution_count": null,
   "metadata": {},
   "outputs": [],
   "source": [
    "fig1 = figure(figsize=[6, 6])\n",
    "grid(\"on\")\n",
    "title(\"a = $a, b = $b, m = $m\")\n",
    "xlabel(\"Xn\")\n",
    "ylabel(\"Xn+1\")\n",
    "#xlim(0.45,0.55)\n",
    "#ylim(0.45,0.55)\n",
    "a1 = A[100:10000]\n",
    "a2 = A[(100+2):(10000+2)]\n",
    "scatter(a1,a2,c=\"red\",s=1)\n",
    "#savefig(\"./fig2.png\")"
   ]
  }
 ],
 "metadata": {
  "kernelspec": {
   "display_name": "Julia 1.0.0",
   "language": "julia",
   "name": "julia-1.0"
  },
  "language_info": {
   "file_extension": ".jl",
   "mimetype": "application/julia",
   "name": "julia",
   "version": "1.0.1"
  }
 },
 "nbformat": 4,
 "nbformat_minor": 2
}
