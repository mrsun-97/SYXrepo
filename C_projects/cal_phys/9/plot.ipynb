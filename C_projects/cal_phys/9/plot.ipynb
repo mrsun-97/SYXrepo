{
 "cells": [
  {
   "cell_type": "code",
   "execution_count": null,
   "metadata": {},
   "outputs": [],
   "source": [
    "using PyPlot\n",
    "using DelimitedFiles\n",
    "data=readdlm(\"data.txt\",'\\n')\n",
    "r = sqrt(2.0)\n",
    "p(x) = exp(-x^2/2)/sqrt(2π)\n",
    "y(x) = x^2+r*x+1\n",
    "F(x) = (0.5*(log(y(x))-log(y(-x)))-atan(1-r*x)+atan(r*x+1))/(2*π) + 0.5\n",
    "num = length(data)\n",
    "η = num/1000000"
   ]
  },
  {
   "cell_type": "code",
   "execution_count": null,
   "metadata": {},
   "outputs": [],
   "source": [
    "r = 4.5\n",
    "k = 160\n",
    "h = r/k\n",
    "A = zeros(2k)\n",
    "for e in data\n",
    "    t = Int(floor(e/h))\n",
    "    if t in (-k):(k-1)\n",
    "        A[t+k+1] += 1\n",
    "    end\n",
    "end\n",
    "rate = num\n",
    "fig = figure(figsize=[12,10])\n",
    "title(\"2*$k bars, η=$η\")\n",
    "xlabel(\"x\")\n",
    "bar((-r+h/2):h:(r-h/2),A/num/h,h)\n",
    "x = -r:0.01:r\n",
    "plot(x,p.(x),c=\"red\")\n",
    "savefig(\"./texfile/data_ηmax$k.png\")"
   ]
  },
  {
   "cell_type": "code",
   "execution_count": null,
   "metadata": {},
   "outputs": [],
   "source": [
    "c = 15/16/(sqrt(2)/π)\n",
    "1/c"
   ]
  },
  {
   "cell_type": "code",
   "execution_count": null,
   "metadata": {
    "scrolled": false
   },
   "outputs": [],
   "source": [
    "k = 7\n",
    "B = zeros(2k)\n",
    "h = 4.0/k\n",
    "for i in 1:2k\n",
    "    B[i] = p((i-k-0.5)h)\n",
    "end\n",
    "fig = figure(figsize=[12,10])\n",
    "bar((-k+0.5)h:h:(k-0.5)h,B,h)\n",
    "plot(x,p.(x),c=\"red\",linewidth=2)\n",
    "savefig(\"./texfile/ex1.png\")"
   ]
  },
  {
   "cell_type": "code",
   "execution_count": null,
   "metadata": {},
   "outputs": [],
   "source": [
    "fig = figure(figsize=[8,6])\n",
    "x = -5:0.05:5\n",
    "plot(x,F.(x))\n",
    "grid()\n",
    "xlim(-5,5)\n",
    "xlabel(\"x\")\n",
    "ylabel(\"F(x)\")\n",
    "savefig(\"./texfile/Fx.png\")"
   ]
  },
  {
   "cell_type": "code",
   "execution_count": null,
   "metadata": {},
   "outputs": [],
   "source": [
    "fig=figure(figsize=[5,4])\n",
    "k=1.26865\n",
    "r = sqrt(2)\n",
    "p(x) = exp(-x^2/2)/sqrt(2π)\n",
    "f(x) = r/π/k/(1+(x/k)^4)\n",
    "x=-4.5:0.01:4.5\n",
    "#plot(x,p.(x),c=\"red\")\n",
    "#plot(x,f.(x))\n",
    "z = p.(x)./f.(x)\n",
    "plot(x,z)\n",
    "maxz = maximum(z)\n",
    "plot(x,ones(length(z))*maxz)\n",
    "println(maxz,'\\t',1/maxz)"
   ]
  }
 ],
 "metadata": {
  "kernelspec": {
   "display_name": "Julia 1.0.2",
   "language": "julia",
   "name": "julia-1.0"
  },
  "language_info": {
   "file_extension": ".jl",
   "mimetype": "application/julia",
   "name": "julia",
   "version": "1.0.2"
  }
 },
 "nbformat": 4,
 "nbformat_minor": 2
}
