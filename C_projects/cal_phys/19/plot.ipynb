{
 "cells": [
  {
   "cell_type": "code",
   "execution_count": null,
   "metadata": {},
   "outputs": [],
   "source": [
    "using DelimitedFiles, PyPlot\n",
    "arr = readdlm(\"data.txt\",'\\t')\n",
    "ave = arr[end-2:end,:]\n",
    "arr = arr[1:end-3,:]\n",
    "len = size(arr,1)\n",
    "rat = 100(ave[:,1]./ave[:,2].-1)\n",
    "K = [ave';rat']\n",
    "for i in 1:3\n",
    "    for a in K[i,:]\n",
    "        print(\"&\",a,\" \")\n",
    "    end\n",
    "    println()\n",
    "end\n",
    "println(arr[1,:])\n",
    "c=\"5_1e5\""
   ]
  },
  {
   "cell_type": "code",
   "execution_count": null,
   "metadata": {},
   "outputs": [],
   "source": [
    "fig = figure(figsize=[12,12])\n",
    "xlabel(\"x\")\n",
    "ylabel(\"y\")\n",
    "axes_lim = 2.0\n",
    "xlim(-axes_lim,axes_lim)\n",
    "ylim(-axes_lim,axes_lim)\n",
    "title(\"simu & exact: $ave\")\n",
    "grid()\n",
    "plot(arr[:,1],arr[:,2])\n",
    "scatter(arr[1,1],arr[1,2],s=30,c=\"red\")\n",
    "#savefig(\"./texfile/fig$c.png\")\n",
    "show()\n",
    "c=\"tmp\""
   ]
  }
 ],
 "metadata": {
  "kernelspec": {
   "display_name": "Julia 1.0.2",
   "language": "julia",
   "name": "julia-1.0"
  },
  "language_info": {
   "file_extension": ".jl",
   "mimetype": "application/julia",
   "name": "julia",
   "version": "1.0.3"
  }
 },
 "nbformat": 4,
 "nbformat_minor": 2
}
