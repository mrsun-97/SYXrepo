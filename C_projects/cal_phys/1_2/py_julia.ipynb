{
 "cells": [
  {
   "cell_type": "code",
   "execution_count": 1,
   "metadata": {},
   "outputs": [
    {
     "name": "stdout",
     "output_type": "stream",
     "text": [
      "Done!\n",
      "10002\n",
      "10002\n",
      "\n"
     ]
    }
   ],
   "source": [
    "using DelimitedFiles\n",
    "arr = readdlm(\"juliaset.txt\", '\\t')\n",
    "println(\"Done!\")\n",
    "m = size(arr,1) #\n",
    "n = size(arr,2) #\n",
    "println(m,'\\n',n,'\\n')\n"
   ]
  },
  {
   "cell_type": "code",
   "execution_count": 18,
   "metadata": {},
   "outputs": [
    {
     "ename": "PyCall.PyError",
     "evalue": "PyError ($(Expr(:escape, :(ccall(#= /home/syx/.julia/packages/PyCall/rUul9/src/pyfncall.jl:44 =# @pysym(:PyObject_Call), PyPtr, (PyPtr, PyPtr, PyPtr), o, pyargsptr, kw))))) <class 'ValueError'>\nValueError(\"'color' kwarg must be an mpl color spec or sequence of color specs.\\nFor a sequence of values to be color-mapped, use the 'c' kwarg instead.\")\n  File \"/usr/lib/python3.7/site-packages/matplotlib/pyplot.py\", line 3475, in scatter\n    edgecolors=edgecolors, data=data, **kwargs)\n  File \"/usr/lib/python3.7/site-packages/matplotlib/__init__.py\", line 1867, in inner\n    return func(ax, *args, **kwargs)\n  File \"/usr/lib/python3.7/site-packages/matplotlib/axes/_axes.py\", line 4220, in scatter\n    raise ValueError(\"'color' kwarg must be an mpl color\"\n",
     "output_type": "error",
     "traceback": [
      "PyError ($(Expr(:escape, :(ccall(#= /home/syx/.julia/packages/PyCall/rUul9/src/pyfncall.jl:44 =# @pysym(:PyObject_Call), PyPtr, (PyPtr, PyPtr, PyPtr), o, pyargsptr, kw))))) <class 'ValueError'>\nValueError(\"'color' kwarg must be an mpl color spec or sequence of color specs.\\nFor a sequence of values to be color-mapped, use the 'c' kwarg instead.\")\n  File \"/usr/lib/python3.7/site-packages/matplotlib/pyplot.py\", line 3475, in scatter\n    edgecolors=edgecolors, data=data, **kwargs)\n  File \"/usr/lib/python3.7/site-packages/matplotlib/__init__.py\", line 1867, in inner\n    return func(ax, *args, **kwargs)\n  File \"/usr/lib/python3.7/site-packages/matplotlib/axes/_axes.py\", line 4220, in scatter\n    raise ValueError(\"'color' kwarg must be an mpl color\"\n",
      "",
      "Stacktrace:",
      " [1] pyerr_check at /home/syx/.julia/packages/PyCall/rUul9/src/exception.jl:60 [inlined]",
      " [2] pyerr_check at /home/syx/.julia/packages/PyCall/rUul9/src/exception.jl:64 [inlined]",
      " [3] macro expansion at /home/syx/.julia/packages/PyCall/rUul9/src/exception.jl:84 [inlined]",
      " [4] __pycall!(::PyCall.PyObject, ::Ptr{PyCall.PyObject_struct}, ::PyCall.PyObject, ::PyCall.PyObject) at /home/syx/.julia/packages/PyCall/rUul9/src/pyfncall.jl:44",
      " [5] _pycall!(::PyCall.PyObject, ::PyCall.PyObject, ::Tuple{Float64,Float64}, ::Int64, ::PyCall.PyObject) at /home/syx/.julia/packages/PyCall/rUul9/src/pyfncall.jl:22",
      " [6] _pycall!(::PyCall.PyObject, ::PyCall.PyObject, ::Tuple{Float64,Float64}, ::Base.Iterators.Pairs{Symbol,Any,Tuple{Symbol,Symbol},NamedTuple{(:s, :color),Tuple{Int64,Array{Int64,1}}}}) at /home/syx/.julia/packages/PyCall/rUul9/src/pyfncall.jl:11",
      " [7] #pycall#88(::Base.Iterators.Pairs{Symbol,Any,Tuple{Symbol,Symbol},NamedTuple{(:s, :color),Tuple{Int64,Array{Int64,1}}}}, ::Function, ::PyCall.PyObject, ::Type{PyCall.PyAny}, ::Float64, ::Vararg{Float64,N} where N) at /home/syx/.julia/packages/PyCall/rUul9/src/pyfncall.jl:86",
      " [8] (::getfield(PyCall, Symbol(\"#kw##pycall\")))(::NamedTuple{(:s, :color),Tuple{Int64,Array{Int64,1}}}, ::typeof(PyCall.pycall), ::PyCall.PyObject, ::Type{PyCall.PyAny}, ::Float64, ::Vararg{Float64,N} where N) at ./none:0",
      " [9] #scatter#99(::Base.Iterators.Pairs{Symbol,Any,Tuple{Symbol,Symbol},NamedTuple{(:s, :color),Tuple{Int64,Array{Int64,1}}}}, ::Function, ::Float64, ::Vararg{Float64,N} where N) at /home/syx/.julia/packages/PyPlot/fZuOQ/src/PyPlot.jl:179",
      " [10] #scatter at ./none:0 [inlined]",
      " [11] top-level scope at ./In[18]:13"
     ]
    }
   ],
   "source": [
    "xm = arr[1,1]\n",
    "using PyPlot\n",
    "fig = figure(figsize=[10, 10])\n",
    "grid(\"on\")\n",
    "#xticks(0.8652:0.00005:0.86559)\n",
    "#yticks(0.49:0.01:0.51)\n",
    "#xlabel(\"λ\")\n",
    "xlim(-1,1)\n",
    "ylim(-1,1)\n",
    "#ylabel(\"final x\")\n",
    "for i = 2:10:100\n",
    "    for j = 1:10:100#(n-1)\n",
    "        scatter(-1+0.0002*(j-1),1-0.0002*(i-2),s=1,color=)\n",
    "    end\n",
    "end\n",
    "        "
   ]
  },
  {
   "cell_type": "code",
   "execution_count": 4,
   "metadata": {},
   "outputs": [
    {
     "data": {
      "text/plain": [
       "4-element Array{Any,1}:\n",
       " 1.0   \n",
       " 1.0   \n",
       " 0.0002\n",
       " 0.0002"
      ]
     },
     "execution_count": 4,
     "metadata": {},
     "output_type": "execute_result"
    }
   ],
   "source": [
    "arr[1,1:4]"
   ]
  }
 ],
 "metadata": {
  "kernelspec": {
   "display_name": "Julia 1.0.1",
   "language": "julia",
   "name": "julia-1.0"
  },
  "language_info": {
   "file_extension": ".jl",
   "mimetype": "application/julia",
   "name": "julia",
   "version": "1.0.1"
  }
 },
 "nbformat": 4,
 "nbformat_minor": 2
}
