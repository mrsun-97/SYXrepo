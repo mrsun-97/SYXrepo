{
 "cells": [
  {
   "cell_type": "code",
   "execution_count": 113,
   "metadata": {},
   "outputs": [
    {
     "name": "stdout",
     "output_type": "stream",
     "text": [
      "π = 3.144960672266793\n"
     ]
    }
   ],
   "source": [
    "N = 1000000\n",
    "s = 1\n",
    "c=0 \n",
    "for i = 1:N\n",
    "    b = s*rand()\n",
    "    a = abs( s/4*cos(rand()*2π) )\n",
    "    if b+a>=s || b-a<=0\n",
    "        c += 1\n",
    "    end\n",
    "end\n",
    "println(\"π = \",N/c)\n"
   ]
  },
  {
   "cell_type": "code",
   "execution_count": 93,
   "metadata": {},
   "outputs": [
    {
     "data": {
      "text/plain": [
       "3.141592653589793238462643383279502884197169399375105820974944592307816406286198"
      ]
     },
     "execution_count": 93,
     "metadata": {},
     "output_type": "execute_result"
    }
   ],
   "source": [
    "BigFloat(π)"
   ]
  }
 ],
 "metadata": {
  "kernelspec": {
   "display_name": "Julia 1.0.0",
   "language": "julia",
   "name": "julia-1.0"
  },
  "language_info": {
   "file_extension": ".jl",
   "mimetype": "application/julia",
   "name": "julia",
   "version": "1.0.1"
  }
 },
 "nbformat": 4,
 "nbformat_minor": 2
}
