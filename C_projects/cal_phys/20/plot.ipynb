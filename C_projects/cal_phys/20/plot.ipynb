{
 "cells": [
  {
   "cell_type": "code",
   "execution_count": null,
   "metadata": {},
   "outputs": [],
   "source": [
    "using DelimitedFiles, PyPlot\n",
    "arr = readdlm(\"data.txt\",'\\t')\n",
    "M = arr[1,1:end-1]\n",
    "V = arr[2:end,1:end-1]\n",
    "N = length(M)\n",
    "g(x) = sqrt(1/(2π*6.24*2))*exp(-x^2/(2*2*6.24))\n",
    "t = 1"
   ]
  },
  {
   "cell_type": "code",
   "execution_count": null,
   "metadata": {},
   "outputs": [],
   "source": [
    "k = 45\n",
    "vi = V[t,:]\n",
    "vm = maximum(abs.(vi))\n",
    "h = vm/k*1.01\n",
    "cnt = zeros(2k)\n",
    "for v in vi\n",
    "    cnt[Int(ceil(v/h))+k] += 1\n",
    "end\n",
    "\n",
    "fig = figure(figsize=[10,8])\n",
    "xlabel(\"v\")\n",
    "ylabel(\"prob\")\n",
    "title(\"t = $t\")\n",
    "xbar = (-k+0.5)*h:h:k*h\n",
    "bar(xbar,cnt[:]./(N*h),h)\n",
    "plot(xbar,g.(xbar),c=\"red\")\n",
    "savefig(\"./texfile/$t.png\")\n",
    "t += 1"
   ]
  },
  {
   "cell_type": "code",
   "execution_count": null,
   "metadata": {},
   "outputs": [],
   "source": [
    "T = readdlm(\"temp.txt\",'\\n')\n",
    "fig1 = figure(figsize=[10,8])\n",
    "xlabel(\"time\")\n",
    "ylabel(\"T\")\n",
    "grid()\n",
    "ylim(-0.05,0.1)\n",
    "plot(1:length(T),T[1].-T,c=\"red\")\n",
    "#plot(1:length(T),T[1].-T)\n",
    "savefig(\"./texfile/demon.png\")"
   ]
  }
 ],
 "metadata": {
  "kernelspec": {
   "display_name": "Julia 1.0.2",
   "language": "julia",
   "name": "julia-1.0"
  },
  "language_info": {
   "file_extension": ".jl",
   "mimetype": "application/julia",
   "name": "julia",
   "version": "1.0.3"
  }
 },
 "nbformat": 4,
 "nbformat_minor": 2
}
