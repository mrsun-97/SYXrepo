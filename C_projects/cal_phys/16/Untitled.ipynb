{
 "cells": [
  {
   "cell_type": "code",
   "execution_count": 12,
   "metadata": {},
   "outputs": [
    {
     "data": {
      "text/plain": [
       "1.3547556456757273"
      ]
     },
     "execution_count": 12,
     "metadata": {},
     "output_type": "execute_result"
    }
   ],
   "source": [
    "log(sqrt(3))/log(1.5)"
   ]
  },
  {
   "cell_type": "code",
   "execution_count": null,
   "metadata": {},
   "outputs": [],
   "source": [
    "using PyPlot\n",
    "a = 1\n",
    "b = sqrt(3)\n",
    "lat = [0 0;2a 0;a b;a -b;-a b;-a -b;-2a 0;0 2b;0 -2b]\n",
    "la = [0 2b;-a b;a -b;-a -b]\n"
   ]
  },
  {
   "cell_type": "code",
   "execution_count": null,
   "metadata": {},
   "outputs": [],
   "source": [
    "fig = figure(figsize=[6,6])\n",
    "l = 2.5b\n",
    "xlim(-l,l)\n",
    "ylim(-l,l)\n",
    "scatter(lat[:,1],lat[:,2],s=20,c=\"red\")\n",
    "scatter(la[:,1],la[:,2],s=25,c=\"blue\")\n",
    "savefig(\"./lattice0.png\")\n",
    "show()"
   ]
  },
  {
   "cell_type": "code",
   "execution_count": null,
   "metadata": {},
   "outputs": [],
   "source": [
    "y(p) = p^3 + 3p^2*(1-p)\n",
    "p = 0:0.01:1\n",
    "xlabel(\"p\")\n",
    "ylabel(\"R(p)\")\n",
    "xticks(0:0.1:1)\n",
    "yticks(0:0.1:1)\n",
    "grid()\n",
    "plot(p,y.(p))\n",
    "plot(p,p)\n",
    "savefig(\"R(p).png\")"
   ]
  }
 ],
 "metadata": {
  "kernelspec": {
   "display_name": "Julia 1.0.2",
   "language": "julia",
   "name": "julia-1.0"
  },
  "language_info": {
   "file_extension": ".jl",
   "mimetype": "application/julia",
   "name": "julia",
   "version": "1.0.2"
  }
 },
 "nbformat": 4,
 "nbformat_minor": 2
}
