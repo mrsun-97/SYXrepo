{
 "cells": [
  {
   "cell_type": "code",
   "execution_count": null,
   "metadata": {},
   "outputs": [],
   "source": [
    "using PyPlot, DelimitedFiles\n",
    "k = 1.06\n",
    "f(x) = sqrt(x+sqrt(x))\n",
    "g(x) = sqrt(x+sqrt(x)) - k*sqrt(x)\n",
    "x = 0:0.001:2\n",
    "fig = figure(figsize=[12,8])\n",
    "plot(x,f.(x))\n",
    "title(\"f(x)\")\n",
    "grid()\n",
    "savefig(\"./texfile/sqrt.png\")"
   ]
  },
  {
   "cell_type": "code",
   "execution_count": null,
   "metadata": {},
   "outputs": [],
   "source": [
    "times = 0"
   ]
  },
  {
   "cell_type": "code",
   "execution_count": null,
   "metadata": {},
   "outputs": [],
   "source": [
    "0.9*0.8*0.9*2*1.3"
   ]
  },
  {
   "cell_type": "code",
   "execution_count": null,
   "metadata": {},
   "outputs": [],
   "source": [
    "fig = figure(figsize=[12,8])\n",
    "vec1 = readdlm(\"rand2.txt\",'\\t')\n",
    "ni = vec1[1,1]*1e0\n",
    "vec1 = vec1[:,2]\n",
    "l = minimum(vec1)\n",
    "h = maximum(vec1)\n",
    "δ = (h-l)/20\n",
    "l = l-0.5δ\n",
    "h = h+0.5δ\n",
    "δ = (h-l)/20\n",
    "cnt = zeros(20)\n",
    "for x in vec1\n",
    "    cnt[Int(ceil((x-l)/δ))] += 1\n",
    "end\n",
    "s = Int(sum(cnt))\n",
    "cnt = cnt./s\n",
    "title(\"N = $s, ni = $ni\")\n",
    "bar((l+δ/2):δ:(h),cnt,δ/3*2)\n",
    "xlabel(\"value\")\n",
    "ylabel(\"p\")\n",
    "show()\n",
    "println(times)\n",
    "times += 1\n",
    "savefig(\"rand2_$times.png\")"
   ]
  }
 ],
 "metadata": {
  "kernelspec": {
   "display_name": "Julia 1.0.2",
   "language": "julia",
   "name": "julia-1.0"
  },
  "language_info": {
   "file_extension": ".jl",
   "mimetype": "application/julia",
   "name": "julia",
   "version": "1.0.2"
  }
 },
 "nbformat": 4,
 "nbformat_minor": 2
}
